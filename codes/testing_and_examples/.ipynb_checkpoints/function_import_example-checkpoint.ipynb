{
 "cells": [
  {
   "cell_type": "code",
   "execution_count": 5,
   "id": "2232abe9-4ffb-4e41-9ca8-1700294c7c38",
   "metadata": {},
   "outputs": [],
   "source": [
    "import sys  \n",
    "import importlib\n",
    "sys.path.insert(1, r'C:\\Users\\alyahyma\\Projects\\NBA_API\\codes')\n",
    "#importlib.reload(my_functions.NBA_functions) # use to clear module cache if .py file changed\n",
    "\n",
    "from my_functions.plotting_functions import set_fig_style\n",
    "from my_functions.NBA_functions import team_log_by_abbrev \n"
   ]
  },
  {
   "cell_type": "code",
   "execution_count": 7,
   "id": "f16f5a84-7366-415b-b902-00b699a567b9",
   "metadata": {},
   "outputs": [
    {
     "name": "stdout",
     "output_type": "stream",
     "text": [
      "['team_log_by_abbrev']\n"
     ]
    }
   ],
   "source": [
    "# to check available functin \n",
    "import my_functions.NBA_functions\n",
    "from inspect import getmembers, isfunction\n",
    "\n",
    "functions_list = getmembers(my_functions.NBA_functions, isfunction)\n",
    "function_names = [name for name, _ in functions_list]\n",
    "print(function_names)"
   ]
  },
  {
   "cell_type": "code",
   "execution_count": 8,
   "id": "9c123302-ad01-4441-92a7-befb0e5df2d5",
   "metadata": {},
   "outputs": [],
   "source": [
    "import numpy as np\n",
    "import pandas as pd\n",
    "import matplotlib.pyplot as plt\n",
    "import random\n",
    "from scipy import stats\n",
    "from datetime import date\n",
    "import requests\n",
    "import matplotlib as mpl\n",
    "\n",
    "from sklearn.linear_model import LinearRegression, LogisticRegression\n",
    "from sklearn.model_selection import train_test_split\n",
    "from sklearn.metrics import mean_absolute_error, mean_squared_error, r2_score, accuracy_score, confusion_matrix\n",
    "from sklearn.preprocessing import MinMaxScaler\n",
    "\n",
    "from nba_api.stats.endpoints import leaguegamefinder, teamgamelog, boxscoreadvancedv2\n",
    "from nba_api.stats.static import teams, players\n",
    "from nba_api.live.nba.endpoints import scoreboard\n",
    "\n",
    "import seaborn as sns\n"
   ]
  },
  {
   "cell_type": "code",
   "execution_count": null,
   "id": "2f46243b-414a-4547-b991-df37e4e06d60",
   "metadata": {},
   "outputs": [],
   "source": [
    "\n"
   ]
  },
  {
   "cell_type": "code",
   "execution_count": 10,
   "id": "6dec963b-46bf-4e1b-937e-0ab12798ad17",
   "metadata": {},
   "outputs": [],
   "source": [
    "#team_log_by_abbrev('OKC')"
   ]
  },
  {
   "cell_type": "code",
   "execution_count": null,
   "id": "b52f83f9-caa0-4655-9e53-cd88f90f2c96",
   "metadata": {},
   "outputs": [],
   "source": []
  }
 ],
 "metadata": {
  "kernelspec": {
   "display_name": "Python 3 (ipykernel)",
   "language": "python",
   "name": "python3"
  },
  "language_info": {
   "codemirror_mode": {
    "name": "ipython",
    "version": 3
   },
   "file_extension": ".py",
   "mimetype": "text/x-python",
   "name": "python",
   "nbconvert_exporter": "python",
   "pygments_lexer": "ipython3",
   "version": "3.12.9"
  }
 },
 "nbformat": 4,
 "nbformat_minor": 5
}
