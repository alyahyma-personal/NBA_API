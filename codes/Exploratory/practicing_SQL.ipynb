{
 "cells": [
  {
   "cell_type": "code",
   "execution_count": 1,
   "id": "fba30722-6a8f-4288-a7b8-8330c8cfcb9f",
   "metadata": {},
   "outputs": [],
   "source": [
    "import sqlite3\n",
    "import pandas as pd"
   ]
  },
  {
   "cell_type": "code",
   "execution_count": 15,
   "id": "c14b8d2d-2c1e-4dcc-a1c4-3d1924b1e856",
   "metadata": {},
   "outputs": [],
   "source": [
    "conn = sqlite3.connect('nba_stat.db')\n",
    "cursor = conn.cursor()\n",
    "\n",
    "cursor.execute('''\n",
    "CREATE TABLE IF NOT EXISTS players (\n",
    "    id INTEGER PRIMARY kEY,\n",
    "    name TEXT,\n",
    "    team TEXT,\n",
    "    position TEXT, \n",
    "    ppg REAL\n",
    ")\n",
    "''')\n",
    "\n",
    "conn.commit()\n",
    "\n"
   ]
  },
  {
   "cell_type": "code",
   "execution_count": 19,
   "id": "e18270b3-87cd-4d48-b65e-96780172425d",
   "metadata": {},
   "outputs": [],
   "source": [
    "cursor.execute(\"SELECT * FROM players\")\n",
    "rows = cursor.fetchall()\n",
    "\n",
    "for row in rows:\n",
    "    print(row)\n",
    "conn.close()"
   ]
  },
  {
   "cell_type": "code",
   "execution_count": 24,
   "id": "ff3d0e30-8799-49cf-a9d7-1c62f10fd933",
   "metadata": {},
   "outputs": [],
   "source": [
    "conn = sqlite3.connect('nba_stat.db')\n",
    "cursor = conn.cursor()\n",
    "\n",
    "players_data = [\n",
    "    (\"LeBron James\", \"Lakers\",\"SF\",25.4),\n",
    "    (\"Stephen Curry\",\"WArriots\",\"PG\",\"27.3\"),\n",
    "    (\"Giannis Antetokounmpo\", \"Bucks\",\"SF\",28.2),\n",
    "    (\"Kevin Durant\",\"Suns\", \"SF\",28.2),\n",
    "    (\"Nikola Jokic\",\"Nuggets\",\"C\",26.5)\n",
    "]\n",
    "\n",
    "cursor.executemany('''\n",
    "    INSERT INTO players (name, team, position, ppg)\n",
    "    VALUES(?,?,?,?)\n",
    "''', players_data)\n",
    "\n",
    "conn.commit()"
   ]
  },
  {
   "cell_type": "code",
   "execution_count": 25,
   "id": "1e600c95-359a-4170-b03e-ba9cb856dc4a",
   "metadata": {},
   "outputs": [
    {
     "name": "stdout",
     "output_type": "stream",
     "text": [
      "(1, 'LeBron James', 'Lakers', 'SF', 25.4)\n",
      "(2, 'Stephen Curry', 'WArriots', 'PG', 27.3)\n",
      "(3, 'Giannis Antetokounmpo', 'Bucks', 'SF', 28.2)\n",
      "(4, 'Kevin Durant', 'Suns', 'SF', 28.2)\n",
      "(5, 'Nikola Jokic', 'Nuggets', 'C', 26.5)\n"
     ]
    }
   ],
   "source": [
    "cursor.execute(\"SELECT * FROM players\")\n",
    "rows = cursor.fetchall()\n",
    "\n",
    "for row in rows:\n",
    "    print(row)"
   ]
  },
  {
   "cell_type": "code",
   "execution_count": 27,
   "id": "b6c6dce6-a199-4f42-90af-9472f26a4f9e",
   "metadata": {},
   "outputs": [
    {
     "data": {
      "text/html": [
       "<div>\n",
       "<style scoped>\n",
       "    .dataframe tbody tr th:only-of-type {\n",
       "        vertical-align: middle;\n",
       "    }\n",
       "\n",
       "    .dataframe tbody tr th {\n",
       "        vertical-align: top;\n",
       "    }\n",
       "\n",
       "    .dataframe thead th {\n",
       "        text-align: right;\n",
       "    }\n",
       "</style>\n",
       "<table border=\"1\" class=\"dataframe\">\n",
       "  <thead>\n",
       "    <tr style=\"text-align: right;\">\n",
       "      <th></th>\n",
       "      <th>id</th>\n",
       "      <th>name</th>\n",
       "      <th>team</th>\n",
       "      <th>position</th>\n",
       "      <th>ppg</th>\n",
       "    </tr>\n",
       "  </thead>\n",
       "  <tbody>\n",
       "    <tr>\n",
       "      <th>0</th>\n",
       "      <td>1</td>\n",
       "      <td>LeBron James</td>\n",
       "      <td>Lakers</td>\n",
       "      <td>SF</td>\n",
       "      <td>25.4</td>\n",
       "    </tr>\n",
       "    <tr>\n",
       "      <th>1</th>\n",
       "      <td>2</td>\n",
       "      <td>Stephen Curry</td>\n",
       "      <td>WArriots</td>\n",
       "      <td>PG</td>\n",
       "      <td>27.3</td>\n",
       "    </tr>\n",
       "    <tr>\n",
       "      <th>2</th>\n",
       "      <td>3</td>\n",
       "      <td>Giannis Antetokounmpo</td>\n",
       "      <td>Bucks</td>\n",
       "      <td>SF</td>\n",
       "      <td>28.2</td>\n",
       "    </tr>\n",
       "    <tr>\n",
       "      <th>3</th>\n",
       "      <td>4</td>\n",
       "      <td>Kevin Durant</td>\n",
       "      <td>Suns</td>\n",
       "      <td>SF</td>\n",
       "      <td>28.2</td>\n",
       "    </tr>\n",
       "    <tr>\n",
       "      <th>4</th>\n",
       "      <td>5</td>\n",
       "      <td>Nikola Jokic</td>\n",
       "      <td>Nuggets</td>\n",
       "      <td>C</td>\n",
       "      <td>26.5</td>\n",
       "    </tr>\n",
       "  </tbody>\n",
       "</table>\n",
       "</div>"
      ],
      "text/plain": [
       "   id                   name      team position   ppg\n",
       "0   1           LeBron James    Lakers       SF  25.4\n",
       "1   2          Stephen Curry  WArriots       PG  27.3\n",
       "2   3  Giannis Antetokounmpo     Bucks       SF  28.2\n",
       "3   4           Kevin Durant      Suns       SF  28.2\n",
       "4   5           Nikola Jokic   Nuggets        C  26.5"
      ]
     },
     "execution_count": 27,
     "metadata": {},
     "output_type": "execute_result"
    }
   ],
   "source": [
    "df = pd.read_sql_query(\"SELECT * from players\", conn)"
   ]
  },
  {
   "cell_type": "code",
   "execution_count": 31,
   "id": "571b5226-1c64-4561-8c5a-7254b2e3101b",
   "metadata": {},
   "outputs": [
    {
     "name": "stdout",
     "output_type": "stream",
     "text": [
      "('Stephen Curry', 'WArriots', 27.3)\n",
      "('Giannis Antetokounmpo', 'Bucks', 28.2)\n",
      "('Kevin Durant', 'Suns', 28.2)\n"
     ]
    }
   ],
   "source": [
    "cursor.execute(\"SELECT name, team, ppg FROM players WHERE ppg>27\")\n",
    "rows = cursor.fetchall()\n",
    "\n",
    "for row in rows:\n",
    "    print(row)"
   ]
  },
  {
   "cell_type": "code",
   "execution_count": 38,
   "id": "b3426b2b-6267-4fd8-a025-910d1284ca7b",
   "metadata": {},
   "outputs": [
    {
     "name": "stdout",
     "output_type": "stream",
     "text": [
      "Average PPG:  27.12\n"
     ]
    }
   ],
   "source": [
    "cursor.execute(\"SELECT AVG(ppg) FROM players\")\n",
    "avg_ppg = cursor.fetchone()[0]\n",
    "print(\"Average PPG: \", round(avg_ppg,2))"
   ]
  },
  {
   "cell_type": "code",
   "execution_count": 66,
   "id": "331dc764-4583-4ef5-a95e-263d95bf8e7f",
   "metadata": {},
   "outputs": [
    {
     "name": "stdout",
     "output_type": "stream",
     "text": [
      "Position: C, Avg PPG: 26.5\n",
      "Position: PG, Avg PPG: 27.3\n",
      "Position: SF, Avg PPG: 27.27\n"
     ]
    }
   ],
   "source": [
    "cursor.execute('''\n",
    "SELECT position, AVG(ppg) AS avg_ppg\n",
    "FROM players\n",
    "GROUP BY position\n",
    "''')\n",
    "\n",
    "rows = cursor.fetchall()\n",
    "for row in rows:\n",
    "    print(f\"Position: {row[0]}, Avg PPG: {round(row[1],2)}\")\n"
   ]
  },
  {
   "cell_type": "code",
   "execution_count": 61,
   "id": "1a251ff0-5694-4d58-8f2b-31f1226a396e",
   "metadata": {},
   "outputs": [
    {
     "name": "stdout",
     "output_type": "stream",
     "text": [
      "Average PPG for SF: 27.27\n"
     ]
    }
   ],
   "source": [
    "cursor.execute(\"\"\"\n",
    "SELECT AVG(ppg) \n",
    "FROM players \n",
    "WHERE position = 'SF'\n",
    "\"\"\")\n",
    "\n",
    "avg_sf_ppg = cursor.fetchone()[0]\n",
    "\n",
    "print(\"Average PPG for SF:\", round(avg_sf_ppg,2))"
   ]
  },
  {
   "cell_type": "code",
   "execution_count": 81,
   "id": "b920b2a4-12c6-4e7a-ad6f-b7812441d4ab",
   "metadata": {},
   "outputs": [],
   "source": [
    "cursor.execute(\"\"\"\n",
    "    CREATE TABLE IF NOT EXISTS teams(\n",
    "    team_name TEST PRIMARY KEY,\n",
    "    city TEXT, \n",
    "    coach TEXT\n",
    ")\n",
    "\"\"\")\n",
    "\n",
    "teams_data = [\n",
    "    (\"Lakers\",\"LOS Angeles\",\"JJ Redick\"),\n",
    "    (\"Warriors\",\"San Francisco\",\"Steve Kerr\"),\n",
    "    (\"Bucks\",\"Milwaukee\",\"Doc Rivers\"),\n",
    "    (\"Suns\", \"Phoenix\",\"Frank Vogel\"),\n",
    "    (\"Nuggets\",\"Denver\",\"Michael MAlone\")\n",
    "    \n",
    "]\n",
    "\n",
    "cursor.executemany('''\n",
    "    INSERT OR IGNORE INTO teams (team_name,city,coach)\n",
    "    VALUES(?,?,?)\n",
    "''',teams_data)\n",
    "conn.commit()"
   ]
  },
  {
   "cell_type": "code",
   "execution_count": 82,
   "id": "86b72b71-3d4c-4f4d-a93f-16e82a12783a",
   "metadata": {},
   "outputs": [],
   "source": [
    "rows = cursor.fetchall()\n",
    "\n",
    "for row in rows:\n",
    "    print(row)"
   ]
  },
  {
   "cell_type": "code",
   "execution_count": 83,
   "id": "b7ce30b3-e5da-4b3f-a17e-bdd2692bd994",
   "metadata": {},
   "outputs": [
    {
     "name": "stdout",
     "output_type": "stream",
     "text": [
      "('LeBron James', 'Lakers', 'LOS Angeles', 'JJ Redick')\n",
      "('Giannis Antetokounmpo', 'Bucks', 'Milwaukee', 'Doc Rivers')\n",
      "('Kevin Durant', 'Suns', 'Phoenix', 'Frank Vogel')\n",
      "('Nikola Jokic', 'Nuggets', 'Denver', 'Michael MAlone')\n"
     ]
    }
   ],
   "source": [
    "cursor.execute('''\n",
    "SELECT players.name, players.team, teams.city, teams.coach\n",
    "FROM players \n",
    "JOIN teams ON players.team = teams.team_name\n",
    "''')\n",
    "\n",
    "rows = cursor.fetchall()\n",
    "\n",
    "for row in rows:\n",
    "    print(row)"
   ]
  },
  {
   "cell_type": "code",
   "execution_count": null,
   "id": "f9c87169-54f5-4ee7-a70a-f85a94e4d922",
   "metadata": {},
   "outputs": [],
   "source": []
  },
  {
   "cell_type": "code",
   "execution_count": null,
   "id": "bf7e16f7-8e7d-461d-b8ba-04c885b055d4",
   "metadata": {},
   "outputs": [],
   "source": []
  }
 ],
 "metadata": {
  "kernelspec": {
   "display_name": "Python 3 (ipykernel)",
   "language": "python",
   "name": "python3"
  },
  "language_info": {
   "codemirror_mode": {
    "name": "ipython",
    "version": 3
   },
   "file_extension": ".py",
   "mimetype": "text/x-python",
   "name": "python",
   "nbconvert_exporter": "python",
   "pygments_lexer": "ipython3",
   "version": "3.12.9"
  }
 },
 "nbformat": 4,
 "nbformat_minor": 5
}
