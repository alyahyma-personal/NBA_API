{
 "cells": [
  {
   "cell_type": "code",
   "execution_count": 24,
   "id": "81f158d1-6b7d-449d-a08f-8abf3b59d021",
   "metadata": {},
   "outputs": [],
   "source": [
    "import numpy as np\n",
    "import pandas as pd\n",
    "import matplotlib.pyplot as plt\n",
    "import random\n",
    "from scipy import stats\n",
    "from datetime import date\n",
    "import requests\n",
    "import matplotlib as mpl\n",
    "\n",
    "from sklearn.linear_model import LinearRegression, LogisticRegression\n",
    "from sklearn.model_selection import train_test_split\n",
    "from sklearn.metrics import mean_absolute_error, mean_squared_error, r2_score, accuracy_score, confusion_matrix\n",
    "from sklearn.preprocessing import MinMaxScaler\n",
    "\n",
    "from nba_api.stats.endpoints import leaguegamefinder, teamgamelog, boxscoreadvancedv2\n",
    "from nba_api.stats.static import teams, players\n",
    "from nba_api.live.nba.endpoints import scoreboard\n",
    "\n",
    "import seaborn as sns\n"
   ]
  },
  {
   "cell_type": "code",
   "execution_count": 4,
   "id": "2cf3bef8-63e6-48c2-a7ad-c4253a140e85",
   "metadata": {},
   "outputs": [],
   "source": [
    "import sys\n",
    "import importlib\n",
    "sys.path.insert(1, r'C:\\Users\\alyahyma\\Projects\\NBA_API\\codes')\n",
    "\n",
    "# Import the module\n",
    "from my_functions import NBA_functions\n",
    "\n",
    "# Reload the module (note how we pass the module object directly)\n",
    "importlib.reload(NBA_functions)\n",
    "\n",
    "# Now you can use your imported functions\n",
    "from my_functions.NBA_functions import team_log\n",
    "from my_functions.NBA_functions import get_team_abbreviation\n"
   ]
  },
  {
   "cell_type": "code",
   "execution_count": null,
   "id": "69ae4a8a-a317-46ed-b2ab-e0bb1daffded",
   "metadata": {},
   "outputs": [],
   "source": []
  },
  {
   "cell_type": "code",
   "execution_count": 28,
   "id": "0b9507d2-0711-4afb-9f9c-8a07bc750caf",
   "metadata": {},
   "outputs": [],
   "source": []
  },
  {
   "cell_type": "code",
   "execution_count": 51,
   "id": "6bbb7504-5148-4662-abd8-c350824c9b6e",
   "metadata": {},
   "outputs": [
    {
     "data": {
      "text/plain": [
       "1156"
      ]
     },
     "execution_count": 51,
     "metadata": {},
     "output_type": "execute_result"
    }
   ],
   "source": []
  },
  {
   "cell_type": "code",
   "execution_count": null,
   "id": "06567732-f4d0-486d-87fa-8feed1715ac5",
   "metadata": {},
   "outputs": [],
   "source": []
  },
  {
   "cell_type": "code",
   "execution_count": null,
   "id": "61b0000b-2b90-49fa-93a7-0b1ae9f9c0ba",
   "metadata": {},
   "outputs": [],
   "source": []
  },
  {
   "cell_type": "code",
   "execution_count": 76,
   "id": "3464917b-eac0-428a-99bc-46173d6c056b",
   "metadata": {},
   "outputs": [],
   "source": []
  },
  {
   "cell_type": "code",
   "execution_count": null,
   "id": "c4813a40-7879-4dbd-82cf-82b271c0633d",
   "metadata": {},
   "outputs": [],
   "source": []
  },
  {
   "cell_type": "code",
   "execution_count": null,
   "id": "da3fd2a8-dc60-4ee3-ac9d-2e2ebb26ccd4",
   "metadata": {},
   "outputs": [],
   "source": []
  }
 ],
 "metadata": {
  "kernelspec": {
   "display_name": "Python 3 (ipykernel)",
   "language": "python",
   "name": "python3"
  },
  "language_info": {
   "codemirror_mode": {
    "name": "ipython",
    "version": 3
   },
   "file_extension": ".py",
   "mimetype": "text/x-python",
   "name": "python",
   "nbconvert_exporter": "python",
   "pygments_lexer": "ipython3",
   "version": "3.12.9"
  }
 },
 "nbformat": 4,
 "nbformat_minor": 5
}
